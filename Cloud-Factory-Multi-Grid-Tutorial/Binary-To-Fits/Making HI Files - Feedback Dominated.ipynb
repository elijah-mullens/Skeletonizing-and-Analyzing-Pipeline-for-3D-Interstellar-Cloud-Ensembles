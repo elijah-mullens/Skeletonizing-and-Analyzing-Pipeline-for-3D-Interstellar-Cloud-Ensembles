{
 "cells": [
  {
   "attachments": {},
   "cell_type": "markdown",
   "id": "fb57a437",
   "metadata": {},
   "source": [
    "# Making HI Cubes\n",
    "\n",
    "Back in \"Feedback_dominated_convert_binary_to_fits\", I didn't make HI cubes. This is just a quick code to remedy that. \n",
    "\n",
    "nhi = nhtot - 2*nh2 - nhp"
   ]
  },
  {
   "cell_type": "code",
   "execution_count": 1,
   "id": "bcf80657",
   "metadata": {},
   "outputs": [
    {
     "name": "stdout",
     "output_type": "stream",
     "text": [
      "nCO_x1470y1400z1400.fits         tdust_fits_x1470y1400z1400.fits\n",
      "nH2_x1470y1400z1400.fits         temp_fits_x1470y1400z1400.fits\n",
      "nhtot_x1470y1400z1400.fits\n"
     ]
    }
   ],
   "source": [
    "ls *.fits"
   ]
  },
  {
   "cell_type": "code",
   "execution_count": 2,
   "id": "6dac995e",
   "metadata": {},
   "outputs": [
    {
     "name": "stdout",
     "output_type": "stream",
     "text": [
      "x1470y1400z1400\n"
     ]
    },
    {
     "ename": "NameError",
     "evalue": "name 'nhp' is not defined",
     "output_type": "error",
     "traceback": [
      "\u001b[0;31m---------------------------------------------------------------------------\u001b[0m",
      "\u001b[0;31mNameError\u001b[0m                                 Traceback (most recent call last)",
      "Cell \u001b[0;32mIn[2], line 82\u001b[0m\n\u001b[1;32m     79\u001b[0m         nhp \u001b[39m=\u001b[39m d\u001b[39m*\u001b[39mnhtot\n\u001b[1;32m     80\u001b[0m         \u001b[39mbreak\u001b[39;00m\n\u001b[0;32m---> 82\u001b[0m nh1 \u001b[39m=\u001b[39m nhtot \u001b[39m-\u001b[39m \u001b[39m2\u001b[39m\u001b[39m*\u001b[39mnh2 \u001b[39m-\u001b[39m nhp\n\u001b[1;32m     83\u001b[0m hdu \u001b[39m=\u001b[39m fits\u001b[39m.\u001b[39mPrimaryHDU(nh1)\n\u001b[1;32m     84\u001b[0m file_name \u001b[39m=\u001b[39m \u001b[39m'\u001b[39m\u001b[39mnH1_\u001b[39m\u001b[39m'\u001b[39m \u001b[39m+\u001b[39m last_15 \u001b[39m+\u001b[39m \u001b[39m'\u001b[39m\u001b[39m.fits\u001b[39m\u001b[39m'\u001b[39m\n",
      "\u001b[0;31mNameError\u001b[0m: name 'nhp' is not defined"
     ]
    }
   ],
   "source": [
    "################################################\n",
    "# \n",
    "# Imports\n",
    "#\n",
    "################################################\n",
    "\n",
    "import numpy as np \n",
    "from astropy.io import fits \n",
    "import glob\n",
    "\n",
    "# Loop\n",
    "\n",
    "ulength=3.0856e+20 #internal unit length in centimeters\n",
    "umass=1.9910000e+33 #internal unit mass in grams\n",
    "uvel=1.0e+5 #internal unit velocity in cm/s\n",
    "udensity=umass/ulength**3 #internal unit density in g/cm^-3\n",
    "utime=3.0856000e+15 #internal unit time in seconds \n",
    "mp=1.67e-24 #mass of proton\n",
    "dusttogas= 0.01 #dust to gas mass ratio\n",
    "n = 500 #size of grids is 500 x 500 x 500 voxels, where each voxel = 1 pc in length\n",
    "\n",
    "fn_density = glob.glob(\"density_grid*\")\n",
    "fn_xH2     = glob.glob(\"xH2_grid*\")    \n",
    "fn_xHP     = glob.glob(\"xHP_grid*\")\n",
    "\n",
    "for file_name in fn_density: \n",
    "    \n",
    "    last_15 = file_name[-15:]\n",
    "    print(last_15)\n",
    "    fdensity = open(file_name, \"r\") # r is the default \n",
    "    \n",
    "    # Right now the file is still binary, but we want it to be\n",
    "    # an np array \n",
    "    \n",
    "    # read in binary file to an array\n",
    "    d = np.fromfile(fdensity, dtype=np.float32)\n",
    "    d = np.delete(d, [0,1,2]) #delete first three entrees (which are not data)\n",
    "    \n",
    "    # reshape the 1D array to 3d (n x n x n)\n",
    "    d = d.reshape([n,n,n]) # n = 500\n",
    "    \n",
    "    # convert from AREPO units to actual density (g/cm^3)\n",
    "    rhogas = d*udensity\n",
    "    \n",
    "    # convert from total gas density to nubmber density of hydrogen nuclei \n",
    "    # the factor is 1.4 (mean molecular weight of H)\n",
    "    ## mean molecular weight = average mass in terms of hydrogen masses\n",
    "    ## mean molecular weight^-1 = 1/(1+4x_he), x_he = 0.1m \n",
    "    nhtot = rhogas/(1.4 * mp)\n",
    "    ##############################\n",
    "    ## H2 Abundance\n",
    "    ##############################\n",
    "    for file_name in fn_xH2: \n",
    "        \n",
    "        if(file_name[-15:] == last_15):\n",
    "            \n",
    "            f_H2 = open(file_name,'r')\n",
    "    \n",
    "            d = np.fromfile(f_H2, dtype=np.float32)\n",
    "            d = np.delete(d,[0,1,2])\n",
    "            d = d.reshape([n,n,n])\n",
    "            \n",
    "            nh2 = d*nhtot\n",
    "            break\n",
    "        \n",
    "    ##############################\n",
    "    ## H+ Abundance\n",
    "    ##############################\n",
    "    for file_name in fn_xHP: \n",
    "    \n",
    "        if(file_name[-15:] == last_15):\n",
    "            \n",
    "            f_HP = open(file_name,'r')\n",
    "    \n",
    "            d = np.fromfile(f_HP, dtype=np.float32)\n",
    "            d = np.delete(d,[0,1,2])\n",
    "            d = d.reshape([n,n,n])\n",
    "        \n",
    "            nhp = d*nhtot\n",
    "            break\n",
    "            \n",
    "    nh1 = nhtot - 2*nh2 - nhp\n",
    "    hdu = fits.PrimaryHDU(nh1)\n",
    "    file_name = 'nH1_' + last_15 + '.fits'\n",
    "    hdu.writeto(file_name,overwrite=True)\n",
    "    \n",
    "    "
   ]
  }
 ],
 "metadata": {
  "kernelspec": {
   "display_name": "Python 3 (ipykernel)",
   "language": "python",
   "name": "python3"
  },
  "language_info": {
   "codemirror_mode": {
    "name": "ipython",
    "version": 3
   },
   "file_extension": ".py",
   "mimetype": "text/x-python",
   "name": "python",
   "nbconvert_exporter": "python",
   "pygments_lexer": "ipython3",
   "version": "3.9.15"
  }
 },
 "nbformat": 4,
 "nbformat_minor": 5
}
