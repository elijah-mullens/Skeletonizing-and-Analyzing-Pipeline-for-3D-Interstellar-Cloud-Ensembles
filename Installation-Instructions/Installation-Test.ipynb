{
 "cells": [
  {
   "attachments": {},
   "cell_type": "markdown",
   "metadata": {},
   "source": [
    "# Installation Test \n",
    "\n",
    "After you have made a new conda environment, run this import cell and make sure all packages are downloaded. Download any package you don't have with pip or conda commands"
   ]
  },
  {
   "cell_type": "code",
   "execution_count": null,
   "metadata": {},
   "outputs": [],
   "source": [
    "################################################\n",
    "# \n",
    "# Imports\n",
    "#\n",
    "################################################\n",
    "\n",
    "from skimage.morphology import flood    \n",
    "import skimage.morphology as mo\n",
    "from sklearn.neighbors import NearestNeighbors\n",
    "\n",
    "from astropy.io import fits\n",
    "from astropy.table import QTable\n",
    "from astropy.io import ascii\n",
    "from astropy import units as u\n",
    "from astropy.modeling import models, fitting\n",
    "from astropy.table import Table, hstack\n",
    "\n",
    "from fil_finder import FilFinderPPP\n",
    "\n",
    "import math\n",
    "\n",
    "import numpy as np\n",
    "\n",
    "import scipy\n",
    "from scipy import interpolate\n",
    "from scipy.interpolate import splprep, splev\n",
    "from scipy.stats import binned_statistic\n",
    "from scipy.optimize import curve_fit\n",
    "from scipy.interpolate import RegularGridInterpolator\n",
    "from scipy.spatial import distance\n",
    "\n",
    "import matplotlib.pyplot as plt\n",
    "from mpl_toolkits.mplot3d import Axes3D\n",
    "from matplotlib.animation import FuncAnimation\n",
    "from mpl_toolkits.axes_grid1 import make_axes_locatable\n",
    "from matplotlib.animation import PillowWriter\n",
    "import matplotlib.backends.backend_pdf\n",
    "import matplotlib.colors as mcolor\n",
    "from matplotlib.colors import BoundaryNorm\n",
    "\n",
    "import pyvista as pv\n",
    "\n",
    "import glob\n",
    "\n",
    "import networkx as nx\n",
    "\n",
    "import corner\n",
    "\n",
    "import seaborn\n",
    "\n",
    "import pandas as pd\n",
    "\n",
    "import warnings\n",
    "warnings.filterwarnings('ignore')"
   ]
  },
  {
   "attachments": {},
   "cell_type": "markdown",
   "metadata": {},
   "source": [
    "To convert the pdf to jpegs, you need to install pdf2image and poppler via https://github.com/Belval/pdf2image, however for the tutorial notebooks they have already been converted, so the next step can be skipped"
   ]
  },
  {
   "cell_type": "code",
   "execution_count": null,
   "metadata": {},
   "outputs": [],
   "source": [
    "from pdf2image import convert_from_path"
   ]
  }
 ],
 "metadata": {
  "language_info": {
   "name": "python"
  },
  "orig_nbformat": 4
 },
 "nbformat": 4,
 "nbformat_minor": 2
}
